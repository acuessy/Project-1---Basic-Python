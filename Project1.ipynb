
   "source": [
    "## Basic Python - Project <a id='intro'></a>"
   ]
  },
  {
   "cell_type": "markdown",
   "id": "f6eec11c",
   "metadata": {},
   "source": [
    "<div style=\"border:solid green 2px; padding: 20px\">\n",
    "    \n",
    "<div class=\"alert alert-success\">\n",
    "<b>Review summary</b> \n",
    "    \n",
    "Ash, thanks for submitting the project. You've done a very good job and I enjoyed reviewing it.\n",
    "    \n",
    "- You completed all the tasks.\n",
    "- Your code was optimal and easy to read. \n",
    "- You wrote your own functions.\n",
    "    \n",
    "There are only a few critical comments that need to be corrected. You will find them in the red-colored cells in relevant sections. If you have any questions please write them when you return your project. \n",
    "    \n",
    "I'll be looking forward to getting your updated notebook."
   ]
  },
  {
   "cell_type": "markdown",
   "id": "a1262df4",
   "metadata": {},
   "source": [
    "## Introduction <a id='intro'></a>\n",
    "In this project, you will work with data from the entertainment industry. You will study a dataset with records on movies and shows. The research will focus on the \"Golden Age\" of television, which began in 1999 with the release of *The Sopranos* and is still ongoing.\n",
    "\n",
    "The aim of this project is to investigate how the number of votes a title receives impacts its ratings. The assumption is that highly-rated shows (we will focus on TV shows, ignoring movies) released during the \"Golden Age\" of television also have the most votes.\n",
    "\n",
    "### Stages \n",
    "Data on movies and shows is stored in the `/datasets/movies_and_shows.csv` file. There is no information about the quality of the data, so you will need to explore it before doing the analysis.\n",
    "\n",
    "First, you'll evaluate the quality of the data and see whether its issues are significant. Then, during data preprocessing, you will try to account for the most critical problems.\n",
    " \n",
    "Your project will consist of three stages:\n",
    " 1. Data overview\n",
    " 2. Data preprocessing\n",
    " 3. Data analysis"
   ]
  },
  {
   "cell_type": "markdown",
   "id": "ff0a9750",
   "metadata": {},
   "source": [
    "<div class=\"alert alert-success\"; style=\"border-left: 7px solid green\">\n",
    "<b>✅ Reviewer's comment, v. 1</b> \n",
    "    \n",
    "Title and introduction are essential parts of the project. Make sure you do not forget to include it in your further projects. \n",
    "    \n",
    "It is optimal if introduction consists of:\n",
    "    \n",
    "- brief description of the situation;\n",
    "- goal of the project;\n",
    "- description of the data we are going to use.\n",
    "</div>"
   ]
  },
  {
   "cell_type": "markdown",
   "id": "ac0593ac",
   "metadata": {},
   "source": [
    "## Stage 1. Data overview <a id='data_review'></a>\n",
    "\n",
    "Open and explore the data."
   ]
  },
  {
   "cell_type": "markdown",
   "id": "e86ed00e",
   "metadata": {},
   "source": [
    "You'll need `pandas`, so import it."
   ]
  },
  {
   "cell_type": "code",
   "execution_count": 1,
   "id": "1727d3f8",
   "metadata": {},
   "outputs": [],
   "source": [
    "import pandas as pd\n"
   ]
  },
  {
   "cell_type": "markdown",
   "id": "dd439d5c",
   "metadata": {},
   "source": [
    "<div class=\"alert alert-success\"; style=\"border-left: 7px solid green\">\n",
    "<b>✅ Reviewer's comment, v. 1</b> Needed library has been added </div>"
   ]
  },
  {
   "cell_type": "markdown",
   "id": "9821beeb",
   "metadata": {},
   "source": [
    "Read the `movies_and_shows.csv` file from the `datasets` folder and save it in the `df` variable:"
   ]
  },
  {
   "cell_type": "markdown",
   "id": "be8c09b2",
   "metadata": {},
   "source": [
    "<div class=\"alert alert-warning\"; style=\"border-left: 7px solid gold\">\n",
    "<b>⚠️ Reviewer's comment, v. 1</b> \n",
    "\n",
    "Please note that we shouldn't import pandas library again, we should do it only in the first cell of the project"
   ]
  },
  {
   "cell_type": "markdown",
   "id": "19d94556",
   "metadata": {},
   "source": [
    "<div class=\"alert alert-success\"; style=\"border-left: 7px solid green\">\n",
    "<b>✅ Reviewer's comment, v. 2</b> \n",
    "    \n",
    "Great!"
   ]
  },
  {
   "cell_type": "code",
   "execution_count": 2,
   "id": "fc5a1402",
   "metadata": {},
   "outputs": [],
   "source": [
    "# reading the files and storing them to df\n",
    "\n",
    "df=pd.read_csv('/datasets/movies_and_shows.csv')"
   ]
  },
  {
   "cell_type": "markdown",
   "id": "3c50495f",
   "metadata": {},
   "source": [
    "<div class=\"alert alert-success\"; style=\"border-left: 7px solid green\">\n",
    "<b>✅ Reviewer's comment, v. 1</b> The correct path to the file is specified: the slash at the beginning of the path is very important, as it indicates that you need to search for the file in the root folder. </div>"
   ]
  },
  {
   "cell_type": "markdown",
   "id": "1cd0a96d",
   "metadata": {},
   "source": [
    "Print the first 10 table rows:"
   ]
  },
  {
   "cell_type": "code",
   "execution_count": 3,
   "id": "acd92001",
   "metadata": {},
   "outputs": [
    {
     "name": "stdout",
     "output_type": "stream",
     "text": [
      "              name                Character   r0le        TITLE   Type  \\\n",
      "0   Robert De Niro            Travis Bickle  ACTOR  Taxi Driver  MOVIE   \n",
      "1     Jodie Foster            Iris Steensma  ACTOR  Taxi Driver  MOVIE   \n",
      "2    Albert Brooks                      Tom  ACTOR  Taxi Driver  MOVIE   \n",
      "3    Harvey Keitel  Matthew 'Sport' Higgins  ACTOR  Taxi Driver  MOVIE   \n",
      "4  Cybill Shepherd                    Betsy  ACTOR  Taxi Driver  MOVIE   \n",
      "\n",
      "   release Year              genres  imdb sc0re  imdb v0tes  \n",
      "0          1976  ['drama', 'crime']         8.2    808582.0  \n",
      "1          1976  ['drama', 'crime']         8.2    808582.0  \n",
      "2          1976  ['drama', 'crime']         8.2    808582.0  \n",
      "3          1976  ['drama', 'crime']         8.2    808582.0  \n",
      "4          1976  ['drama', 'crime']         8.2    808582.0  \n"
     ]
    }
   ],
   "source": [
    "# obtaining the first 10 rows from the df table\n",
    "# hint: you can use head() and tail() in Jupyter Notebook without wrapping them into print()\n",
    "print(df.head())"
   ]
  },
  {
   "cell_type": "markdown",
   "id": "e579aa91",
   "metadata": {},
   "source": [
    "Obtain the general information about the table with one command:"
   ]
  },
  {
   "cell_type": "markdown",
   "id": "3717a5d2",
   "metadata": {},
   "source": [
    "<div class=\"alert alert-danger\"; style=\"border-left: 7px solid red\">\n",
    "<b>⛔️ Reviewer's comment, v. 1</b> \n",
    "    \n",
    "Please don't import the pandas library and reload the dataset again, we should do it only once in the very beginning of the project"
   ]
  },
  {
   "cell_type": "markdown",
   "id": "0e229259",
   "metadata": {},
   "source": [
    "<div class=\"alert alert-success\"; style=\"border-left: 7px solid green\">\n",
    "<b>✅ Reviewer's comment, v. 2</b> \n",
    "    \n",
    "Now it's perfect!"
   ]
  },
  {
   "cell_type": "code",
   "execution_count": 4,
   "id": "7bf66d2a",
   "metadata": {},
   "outputs": [
    {
     "name": "stdout",
     "output_type": "stream",
     "text": [
      "<class 'pandas.core.frame.DataFrame'>\n",
      "RangeIndex: 85579 entries, 0 to 85578\n",
      "Data columns (total 9 columns):\n",
      " #   Column        Non-Null Count  Dtype  \n",
      "---  ------        --------------  -----  \n",
      " 0      name       85579 non-null  object \n",
      " 1   Character     85579 non-null  object \n",
      " 2   r0le          85579 non-null  object \n",
      " 3   TITLE         85578 non-null  object \n",
      " 4     Type        85579 non-null  object \n",
      " 5   release Year  85579 non-null  int64  \n",
      " 6   genres        85579 non-null  object \n",
      " 7   imdb sc0re    80970 non-null  float64\n",
      " 8   imdb v0tes    80853 non-null  float64\n",
      "dtypes: float64(2), int64(1), object(6)\n",
      "memory usage: 5.9+ MB\n"
     ]
    }
   ],
   "source": [
    "# obtaining general information about the data in df\n",
    "\n",
    "df.info()"
   ]
  },
  {
   "cell_type": "markdown",
   "id": "cb54cf4c",
   "metadata": {},
   "source": [
    "<div class=\"alert alert-success\"; style=\"border-left: 7px solid green\">\n",
    "<b>✅ Reviewer's comment, v. 1</b> \n",
    "    \n",
    "Great - you've used a comprehensive set of methods to have a first look at the data.\n",
    "    "
   ]
  },
  {
   "cell_type": "markdown",
   "id": "e91f62a7",
   "metadata": {},
   "source": [
    "The table contains nine columns. The majority store the same data type: object. The only exceptions are `'release Year'` (int64 type), `'imdb sc0re'` (float64 type) and `'imdb v0tes'` (float64 type). Scores and votes will be used in our analysis, so it's important to verify that they are present in the dataframe in the appropriate numeric format. Three columns (`'TITLE'`, `'imdb sc0re'` and `'imdb v0tes'`) have missing values.\n",
    "\n",
    "According to the documentation:\n",
    "- `'name'` — actor/director's name and last name\n",
    "- `'Character'` — character played (for actors)\n",
    "- `'r0le '` — the person's contribution to the title (it can be in the capacity of either actor or director)\n",
    "- `'TITLE '` — title of the movie (show)\n",
    "- `'  Type'` — show or movie\n",
    "- `'release Year'` — year when movie (show) was released\n",
    "- `'genres'` — list of genres under which the movie (show) falls\n",
    "- `'imdb sc0re'` — score on IMDb\n",
    "- `'imdb v0tes'` — votes on IMDb\n",
    "\n",
    "We can see three issues with the column names:\n",
    "1. Some names are uppercase, while others are lowercase.\n",
    "2. There are names containing whitespace.\n",
    "3. A few column names have digit '0' instead of letter 'o'. \n"
   ]
  },
  {
   "cell_type": "markdown",
   "id": "4355de7b",
   "metadata": {},
   "source": [
    "### Conclusions <a id='data_review_conclusions'></a> \n",
    "\n",
    "Each row in the table stores data about a movie or show. The columns can be divided into two categories: the first is about the roles held by different people who worked on the movie or show (role, name of the actor or director, and character if the row is about an actor); the second category is information about the movie or show itself (title, release year, genre, imdb figures).\n",
    "\n",
    "It's clear that there is sufficient data to do the analysis and evaluate our assumption. However, to move forward, we need to preprocess the data."
   ]
  },
  {
   "cell_type": "markdown",
   "id": "4e26b776",
   "metadata": {},
   "source": [
    "<div class=\"alert alert-success\"; style=\"border-left: 7px solid green\">\n",
    "<b>✅ Reviewer's comment, v. 1</b> \n",
    "    \n",
    "Please note that it is highly recommended to add a conclusion / summary after each section and describe briefly your observations and / or major outcomes of the analysis."
   ]
  },
  {
   "cell_type": "markdown",
   "id": "c5dc9111",
   "metadata": {},
   "source": [
    "## Stage 2. Data preprocessing <a id='data_preprocessing'></a>\n",
    "Correct the formatting in the column headers and deal with the missing values. Then, check whether there are duplicates in the data."
   ]
  },
  {
   "cell_type": "markdown",
   "id": "df6e4553",
   "metadata": {},
   "source": [
    "<div class=\"alert alert-danger\"; style=\"border-left: 7px solid red\">\n",
    "<b>⛔️ Reviewer's comment, v. 1</b> \n",
    "    \n",
    "And also please don't import the pandas library and reload the dataset again, we should do it only once in the very beginning of the project"
   ]
  },
  {
   "cell_type": "markdown",
   "id": "406ce79e",
   "metadata": {},
   "source": [
    "<div class=\"alert alert-success\"; style=\"border-left: 7px solid green\">\n",
    "<b>✅ Reviewer's comment, v. 2</b> \n",
    "    \n",
    "Well done!"
   ]
  },
  {
   "cell_type": "code",
   "execution_count": 5,
   "id": "9c850d13",
   "metadata": {},
   "outputs": [],
   "source": [
    "# the list of column names in the df table\n",
    "\n",
    "df.columns = df.columns.str.strip()\n",
    "df.columns = df.columns.str.lower()\n",
    "df.columns = df.columns.str.replace('0','o')"
   ]
  },
  {
   "cell_type": "markdown",
   "id": "762ca44f",
   "metadata": {},
   "source": [
    "<div class=\"alert alert-success\"; style=\"border-left: 7px solid green\">\n",
    "<b>✅ Reviewer's comment, v. 1</b> \n",
    "    \n",
    "This is a good way to rename the columns."
   ]
  },
  {
   "cell_type": "markdown",
   "id": "5f966df9",
   "metadata": {},
   "source": [
    "Change the column names according to the rules of good style:\n",
    "* If the name has several words, use snake_case\n",
    "* All characters must be lowercase\n",
    "* Remove whitespace\n",
    "* Replace zero with letter 'o'"
   ]
  },
  {
   "cell_type": "code",
   "execution_count": 6,
   "id": "23a1dc11",
   "metadata": {},
   "outputs": [
    {
     "data": {
      "text/plain": [
       "Index(['name', 'character', 'role', 'title', 'type', 'release year', 'genres',\n",
       "       'imdb score', 'imdb votes'],\n",
       "      dtype='object')"
      ]
     },
     "execution_count": 6,
     "metadata": {},
     "output_type": "execute_result"
    }
   ],
   "source": [
    "# renaming columns\n",
    "df.columns"
   ]
  },
  {
   "cell_type": "markdown",
   "id": "464fbd04",
   "metadata": {},
   "source": [
    "Check the result. Print the names of the columns once more:"
   ]
  },
  {
   "cell_type": "code",
   "execution_count": 7,
   "id": "0eb6527f",
   "metadata": {},
   "outputs": [
    {
     "data": {
      "text/plain": [
       "Index(['name', 'character', 'role', 'title', 'type', 'release year', 'genres',\n",
       "       'imdb score', 'imdb votes'],\n",
       "      dtype='object')"
      ]
     },
     "execution_count": 7,
     "metadata": {},
     "output_type": "execute_result"
    }
   ],
   "source": [
    "# checking result: the list of column names\n",
    "df.columns"
   ]
  },
  {
   "cell_type": "markdown",
   "id": "14d9c319",
   "metadata": {},
   "source": [
    "### Missing values <a id='missing_values'></a>\n",
    "First, find the number of missing values in the table. To do so, combine two `pandas` methods:"
   ]
  },
  {
   "cell_type": "code",
   "execution_count": 8,
   "id": "21c427f2",
   "metadata": {},
   "outputs": [
    {
     "name": "stdout",
     "output_type": "stream",
     "text": [
      "name               0\n",
      "character          0\n",
      "role               0\n",
      "title              1\n",
      "type               0\n",
      "release year       0\n",
      "genres             0\n",
      "imdb score      4609\n",
      "imdb votes      4726\n",
      "dtype: int64\n"
     ]
    }
   ],
   "source": [
    "# calculating missing values\n",
    "print(df.isnull().sum())  "
   ]
  },
  {
   "cell_type": "markdown",
   "id": "64c27b8d",
   "metadata": {},
   "source": [
    "<div class=\"alert alert-success\"; style=\"border-left: 7px solid green\">\n",
    "<b>✅ Reviewer's comment, v. 1</b> \n",
    "    \n",
    "The isnull() method is selected to find the missing values, it's great!"
   ]
  },
  {
   "cell_type": "markdown",
   "id": "c8272df3",
   "metadata": {},
   "source": [
    "Not all missing values affect the research: the single missing value in `'title'` is not critical. The missing values in columns `'imdb_score'` and `'imdb_votes'` represent around 6% of all records (4,609 and 4,726, respectively, of the total 85,579). This could potentially affect our research. To avoid this issue, we will drop rows with missing values in the `'imdb_score'` and `'imdb_votes'` columns."
   ]
  },
  {
   "cell_type": "code",
   "execution_count": 9,
   "id": "599d5550",
   "metadata": {},
   "outputs": [],
   "source": [
    "# dropping rows where columns with title, scores and votes have missing values\n",
    "df.dropna(inplace=True)"
   ]
  },
  {
   "cell_type": "markdown",
   "id": "08f82d4e",
   "metadata": {},
   "source": [
    "<div class=\"alert alert-danger\"; style=\"border-left: 7px solid red\">\n",
    "<b>⛔️ Reviewer's comment, v. 1</b> \n",
    "    \n",
    "Please just use this code:\n",
    "    \n",
    "    df.dropna(inplace=True)\n",
    "    \n",
    "To remove all the missing values in the dataset"
   ]
  },
  {
   "cell_type": "markdown",
   "id": "f55e4714",
   "metadata": {},
   "source": [
    "<div class=\"alert alert-success\"; style=\"border-left: 7px solid green\">\n",
    "<b>✅ Reviewer's comment, v. 2</b> \n",
    "    \n",
    "Yep, that's it!"
   ]
  },
  {
   "cell_type": "markdown",
   "id": "2156887f",
   "metadata": {},
   "source": [
    "Make sure the table doesn't contain any more missing values. Count the missing values again."
   ]
  },
  {
   "cell_type": "code",
   "execution_count": 10,
   "id": "55c0b0ce",
   "metadata": {},
   "outputs": [
    {
     "name": "stdout",
     "output_type": "stream",
     "text": [
      "name            0\n",
      "character       0\n",
      "role            0\n",
      "title           0\n",
      "type            0\n",
      "release year    0\n",
      "genres          0\n",
      "imdb score      0\n",
      "imdb votes      0\n",
      "dtype: int64\n"
     ]
    }
   ],
   "source": [
    "# counting missing values\n",
    "print(df.isnull().sum())"
   ]
  },
  {
   "cell_type": "markdown",
   "id": "a7dc7aa0",
   "metadata": {},
   "source": [
    "### Duplicates <a id='duplicates'></a>\n",
    "Find the number of duplicate rows in the table using one command:"
   ]
  },
  {
   "cell_type": "code",
   "execution_count": 11,
   "id": "9227df01",
   "metadata": {},
   "outputs": [
    {
     "name": "stdout",
     "output_type": "stream",
     "text": [
      "Number of duplicate rows: 6994\n"
     ]
    }
   ],
   "source": [
    "# counting duplicate rows\n",
    "duplicate_count = df.duplicated().sum()\n",
    "print(f\"Number of duplicate rows: {duplicate_count}\")"
   ]
  },
  {
   "cell_type": "markdown",
   "id": "5f6eb0fc",
   "metadata": {},
   "source": [
    "Review the duplicate rows to determine if removing them would distort our dataset."
   ]
  },
  {
   "cell_type": "code",
   "execution_count": 12,
   "id": "bcf32fcb",
   "metadata": {},
   "outputs": [
    {
     "data": {
      "text/html": [
       "<div>\n",
       "<style scoped>\n",
       "    .dataframe tbody tr th:only-of-type {\n",
       "        vertical-align: middle;\n",
       "    }\n",
       "\n",
       "    .dataframe tbody tr th {\n",
       "        vertical-align: top;\n",
       "    }\n",
       "\n",
       "    .dataframe thead th {\n",
       "        text-align: right;\n",
       "    }\n",
       "</style>\n",
       "<table border=\"1\" class=\"dataframe\">\n",
       "  <thead>\n",
       "    <tr style=\"text-align: right;\">\n",
       "      <th></th>\n",
       "      <th>name</th>\n",
       "      <th>character</th>\n",
       "      <th>role</th>\n",
       "      <th>title</th>\n",
       "      <th>type</th>\n",
       "      <th>release year</th>\n",
       "      <th>genres</th>\n",
       "      <th>imdb score</th>\n",
       "      <th>imdb votes</th>\n",
       "    </tr>\n",
       "  </thead>\n",
       "  <tbody>\n",
       "    <tr>\n",
       "      <th>85569</th>\n",
       "      <td>Jessica Cediel</td>\n",
       "      <td>Liliana Navarro</td>\n",
       "      <td>ACTOR</td>\n",
       "      <td>Lokillo</td>\n",
       "      <td>MOVIE</td>\n",
       "      <td>2021</td>\n",
       "      <td>['comedy']</td>\n",
       "      <td>3.8</td>\n",
       "      <td>68.0</td>\n",
       "    </tr>\n",
       "    <tr>\n",
       "      <th>85570</th>\n",
       "      <td>Javier Gardeaz?­bal</td>\n",
       "      <td>Agust??n \"Peluca\" Ort??z</td>\n",
       "      <td>ACTOR</td>\n",
       "      <td>Lokillo</td>\n",
       "      <td>MOVIE</td>\n",
       "      <td>2021</td>\n",
       "      <td>['comedy']</td>\n",
       "      <td>3.8</td>\n",
       "      <td>68.0</td>\n",
       "    </tr>\n",
       "    <tr>\n",
       "      <th>85571</th>\n",
       "      <td>Carla Giraldo</td>\n",
       "      <td>Valery Reinoso</td>\n",
       "      <td>ACTOR</td>\n",
       "      <td>Lokillo</td>\n",
       "      <td>MOVIE</td>\n",
       "      <td>2021</td>\n",
       "      <td>['comedy']</td>\n",
       "      <td>3.8</td>\n",
       "      <td>68.0</td>\n",
       "    </tr>\n",
       "    <tr>\n",
       "      <th>85572</th>\n",
       "      <td>Ana Mar??a S?­nchez</td>\n",
       "      <td>Lourdes</td>\n",
       "      <td>ACTOR</td>\n",
       "      <td>Lokillo</td>\n",
       "      <td>MOVIE</td>\n",
       "      <td>2021</td>\n",
       "      <td>['comedy']</td>\n",
       "      <td>3.8</td>\n",
       "      <td>68.0</td>\n",
       "    </tr>\n",
       "    <tr>\n",
       "      <th>85577</th>\n",
       "      <td>Isabel Gaona</td>\n",
       "      <td>Cacica</td>\n",
       "      <td>ACTOR</td>\n",
       "      <td>Lokillo</td>\n",
       "      <td>MOVIE</td>\n",
       "      <td>2021</td>\n",
       "      <td>['comedy']</td>\n",
       "      <td>3.8</td>\n",
       "      <td>68.0</td>\n",
       "    </tr>\n",
       "  </tbody>\n",
       "</table>\n",
       "</div>"
      ],
      "text/plain": [
       "                      name                 character   role    title   type  \\\n",
       "85569       Jessica Cediel           Liliana Navarro  ACTOR  Lokillo  MOVIE   \n",
       "85570  Javier Gardeaz?­bal  Agust??n \"Peluca\" Ort??z  ACTOR  Lokillo  MOVIE   \n",
       "85571        Carla Giraldo            Valery Reinoso  ACTOR  Lokillo  MOVIE   \n",
       "85572  Ana Mar??a S?­nchez                   Lourdes  ACTOR  Lokillo  MOVIE   \n",
       "85577         Isabel Gaona                    Cacica  ACTOR  Lokillo  MOVIE   \n",
       "\n",
       "       release year      genres  imdb score  imdb votes  \n",
       "85569          2021  ['comedy']         3.8        68.0  \n",
       "85570          2021  ['comedy']         3.8        68.0  \n",
       "85571          2021  ['comedy']         3.8        68.0  \n",
       "85572          2021  ['comedy']         3.8        68.0  \n",
       "85577          2021  ['comedy']         3.8        68.0  "
      ]
     },
     "execution_count": 12,
     "metadata": {},
     "output_type": "execute_result"
    }
   ],
   "source": [
    "# Produce table with duplicates (with original rows included) and review last 5 rows\n",
    "duplicate_rows_df = df[df.duplicated(keep=False)]\n",
    "duplicate_rows_df.tail()"
   ]
  },
  {
   "cell_type": "markdown",
   "id": "a1ed6640",
   "metadata": {},
   "source": [
    "There are two clear duplicates in the printed rows. We can safely remove them.\n",
    "Call the `pandas` method for getting rid of duplicate rows:"
   ]
  },
  {
   "cell_type": "code",
   "execution_count": 13,
   "id": "724d5bc8",
   "metadata": {},
   "outputs": [],
   "source": [
    "# removing duplicate rows\n",
    "df = df.drop_duplicates()"
   ]
  },
  {
   "cell_type": "markdown",
   "id": "fc8c77ba",
   "metadata": {},
   "source": [
    "Check for duplicate rows once more to make sure you have removed all of them:"
   ]
  },
  {
   "cell_type": "code",
   "execution_count": 14,
   "id": "8091a9bc",
   "metadata": {},
   "outputs": [
    {
     "name": "stdout",
     "output_type": "stream",
     "text": [
      "Number of duplicate rows after removal: 0\n"
     ]
    }
   ],
   "source": [
    "# checking for duplicates\n",
    "num_duplicates_after = df.duplicated().sum()\n",
    "print(f\"Number of duplicate rows after removal: {num_duplicates_after}\")"
   ]
  },
  {
   "cell_type": "markdown",
   "id": "34ed33ef",
   "metadata": {},
   "source": [
    "<div class=\"alert alert-success\"; style=\"border-left: 7px solid green\">\n",
    "<b>✅ Reviewer's comment, v. 1</b> \n",
    "    \n",
    "Great, you found and removed the duplicates. And did very thorough check to make sure the duplicates are gone."
   ]
  },
  {
   "cell_type": "markdown",
   "id": "1d802b07",
   "metadata": {},
   "source": [
    "Now get rid of implicit duplicates in the `'type'` column. For example, the string `'SHOW'` can be written in different ways. These kinds of errors will also affect the result."
   ]
  },
  {
   "cell_type": "markdown",
   "id": "d5f987ed",
   "metadata": {},
   "source": [
    "Print a list of unique `'type'` names, sorted in alphabetical order. To do so:\n",
    "* Retrieve the intended dataframe column \n",
    "* Apply a sorting method to it\n",
    "* For the sorted column, call the method that will return all unique column values"
   ]
  },
  {
   "cell_type": "code",
   "execution_count": 15,
   "id": "3d7b0ac5",
   "metadata": {},
   "outputs": [
    {
     "name": "stdout",
     "output_type": "stream",
     "text": [
      "['MOVIE', 'SHOW', 'movies', 'shows', 'the movie', 'tv', 'tv series', 'tv show', 'tv shows']\n"
     ]
    }
   ],
   "source": [
    "# viewing unique type names\n",
    "unique_types = sorted(df['type'].unique())\n",
    "print(unique_types)"
   ]
  },
  {
   "cell_type": "markdown",
   "id": "8f372637",
   "metadata": {},
   "source": [
    "<div class=\"alert alert-success\"; style=\"border-left: 7px solid green\">\n",
    "<b>✅ Reviewer's comment, v. 1</b> \n",
    "    \n",
    "This is good. "
   ]
  },
  {
   "cell_type": "markdown",
   "id": "ac6e8b18",
   "metadata": {},
   "source": [
    "Look through the list to find implicit duplicates of `'show'` (`'movie'` duplicates will be ignored since the assumption is about shows). These could be names written incorrectly or alternative names of the same genre.\n",
    "\n",
    "You will see the following implicit duplicates:\n",
    "* `'shows'`\n",
    "* `'SHOW'`\n",
    "* `'tv show'`\n",
    "* `'tv shows'`\n",
    "* `'tv series'`\n",
    "* `'tv'`\n",
    "\n",
    "To get rid of them, declare the function `replace_wrong_show()` with two parameters: \n",
    "* `wrong_shows_list=` — the list of duplicates\n",
    "* `correct_show=` — the string with the correct value\n",
    "\n",
    "The function should correct the names in the `'type'` column from the `df` table (i.e., replace each value from the `wrong_shows_list` list with the value in `correct_show`)."
   ]
  },
  {
   "cell_type": "code",
   "execution_count": 16,
   "id": "bff944f9",
   "metadata": {},
   "outputs": [],
   "source": [
    "# function for replacing implicit duplicates\n",
    "def replace_wrong_show(df, wrong_shows_list, correct_show):\n",
    "    df['type'] = df['type'].replace(wrong_shows_list, correct_show)\n",
    "    return df"
   ]
  },
  {
   "cell_type": "markdown",
   "id": "d02d13a6",
   "metadata": {},
   "source": [
    "Call `replace_wrong_show()` and pass it arguments so that it clears implicit duplicates and replaces them with `SHOW`:"
   ]
  },
  {
   "cell_type": "code",
   "execution_count": 17,
   "id": "a2217e53",
   "metadata": {},
   "outputs": [],
   "source": [
    "# removing implicit duplicates\n",
    "wrong_shows_list = ['shows', 'SHOW', 'tv shows', 'tv', 'tv series', 'Tv', 'TV', 'Tv Series', 'Show']\n",
    "correct_show = 'show'\n"
   ]
  },
  {
   "cell_type": "markdown",
   "id": "318b09f7",
   "metadata": {},
   "source": [
    "Make sure the duplicate names are removed. Print the list of unique values from the `'type'` column:"
   ]
  },
  {
   "cell_type": "code",
   "execution_count": 18,
   "id": "25d49d73",
   "metadata": {},
   "outputs": [
    {
     "name": "stdout",
     "output_type": "stream",
     "text": [
      "Unique genre/type names in the 'type' column:\n",
      "['MOVIE' 'the movie' 'tv show' 'show' 'movies']\n"
     ]
    }
   ],
   "source": [
    "# viewing unique genre names\n",
    "wrong_shows_list = ['shows', 'SHOW', 'tv shows', 'tv', 'tv series', 'Tv', 'TV', 'Tv Series', 'Show']\n",
    "correct_show = 'show'\n",
    "df = replace_wrong_show(df, wrong_shows_list, correct_show)\n",
    "\n",
    "unique_genres = df['type'].unique()\n",
    "\n",
    "\n",
    "print(\"Unique genre/type names in the 'type' column:\")\n",
    "print(unique_genres)"
   ]
  },
  {
   "cell_type": "markdown",
   "id": "00441acd",
   "metadata": {},
   "source": [
    "<div class=\"alert alert-success\"; style=\"border-left: 7px solid green\">\n",
    "<b>✅ Reviewer's comment, v. 1</b> \n",
    "    \n",
    "Yes, this is what was needed!"
   ]
  },
  {
   "cell_type": "markdown",
   "id": "18b2049e",
   "metadata": {},
   "source": [
    "### Conclusions <a id='data_preprocessing_conclusions'></a>\n",
    "We detected three issues with the data:\n",
    "\n",
    "- Incorrect header styles\n",
    "- Missing values\n",
    "- Duplicate rows and implicit duplicates\n",
    "\n",
    "The headers have been cleaned up to make processing the table simpler.\n",
    "\n",
    "All rows with missing values have been removed. \n",
    "\n",
    "The absence of duplicates will make the results more precise and easier to understand.\n",
    "\n",
    "Now we can move on to our analysis of the prepared data."
   ]
  },
  {
   "cell_type": "markdown",
   "id": "1aa0f1b1",
   "metadata": {},
   "source": [
    "## Stage 3. Data analysis <a id='hypotheses'></a>"
   ]
  },
  {
   "cell_type": "markdown",
   "id": "f8fb6a0e",
   "metadata": {},
   "source": [
    "Based on the previous project stages, you can now define how the assumption will be checked. Calculate the average amount of votes for each score (this data is available in the `imdb_score` and `imdb_votes` columns), and then check how these averages relate to each other. If the averages for shows with the highest scores are bigger than those for shows with lower scores, the assumption appears to be true.\n",
    "\n",
    "Based on this, complete the following steps:\n",
    "\n",
    "- Filter the dataframe to only include shows released in 1999 or later.\n",
    "- Group scores into buckets by rounding the values of the appropriate column (a set of 1-10 integers will help us make the outcome of our calculations more evident without damaging the quality of our research).\n",
    "- Identify outliers among scores based on their number of votes, and exclude scores with few votes.\n",
    "- Calculate the average votes for each score and check whether the assumption matches the results."
   ]
  },
  {
   "cell_type": "code",
   "execution_count": 19,
   "id": "4c099479",
   "metadata": {},
   "outputs": [
    {
     "data": {
      "text/html": [
       "<div>\n",
       "<style scoped>\n",
       "    .dataframe tbody tr th:only-of-type {\n",
       "        vertical-align: middle;\n",
       "    }\n",
       "\n",
       "    .dataframe tbody tr th {\n",
       "        vertical-align: top;\n",
       "    }\n",
       "\n",
       "    .dataframe thead th {\n",
       "        text-align: right;\n",
       "    }\n",
       "</style>\n",
       "<table border=\"1\" class=\"dataframe\">\n",
       "  <thead>\n",
       "    <tr style=\"text-align: right;\">\n",
       "      <th></th>\n",
       "      <th>name</th>\n",
       "      <th>character</th>\n",
       "      <th>role</th>\n",
       "      <th>title</th>\n",
       "      <th>type</th>\n",
       "      <th>release year</th>\n",
       "      <th>genres</th>\n",
       "      <th>imdb score</th>\n",
       "      <th>imdb votes</th>\n",
       "    </tr>\n",
       "  </thead>\n",
       "  <tbody>\n",
       "    <tr>\n",
       "      <th>0</th>\n",
       "      <td>Robert De Niro</td>\n",
       "      <td>Travis Bickle</td>\n",
       "      <td>ACTOR</td>\n",
       "      <td>Taxi Driver</td>\n",
       "      <td>MOVIE</td>\n",
       "      <td>1976</td>\n",
       "      <td>['drama', 'crime']</td>\n",
       "      <td>8.2</td>\n",
       "      <td>808582.0</td>\n",
       "    </tr>\n",
       "    <tr>\n",
       "      <th>1</th>\n",
       "      <td>Jodie Foster</td>\n",
       "      <td>Iris Steensma</td>\n",
       "      <td>ACTOR</td>\n",
       "      <td>Taxi Driver</td>\n",
       "      <td>MOVIE</td>\n",
       "      <td>1976</td>\n",
       "      <td>['drama', 'crime']</td>\n",
       "      <td>8.2</td>\n",
       "      <td>808582.0</td>\n",
       "    </tr>\n",
       "    <tr>\n",
       "      <th>2</th>\n",
       "      <td>Albert Brooks</td>\n",
       "      <td>Tom</td>\n",
       "      <td>ACTOR</td>\n",
       "      <td>Taxi Driver</td>\n",
       "      <td>MOVIE</td>\n",
       "      <td>1976</td>\n",
       "      <td>['drama', 'crime']</td>\n",
       "      <td>8.2</td>\n",
       "      <td>808582.0</td>\n",
       "    </tr>\n",
       "    <tr>\n",
       "      <th>3</th>\n",
       "      <td>Harvey Keitel</td>\n",
       "      <td>Matthew 'Sport' Higgins</td>\n",
       "      <td>ACTOR</td>\n",
       "      <td>Taxi Driver</td>\n",
       "      <td>MOVIE</td>\n",
       "      <td>1976</td>\n",
       "      <td>['drama', 'crime']</td>\n",
       "      <td>8.2</td>\n",
       "      <td>808582.0</td>\n",
       "    </tr>\n",
       "    <tr>\n",
       "      <th>4</th>\n",
       "      <td>Cybill Shepherd</td>\n",
       "      <td>Betsy</td>\n",
       "      <td>ACTOR</td>\n",
       "      <td>Taxi Driver</td>\n",
       "      <td>MOVIE</td>\n",
       "      <td>1976</td>\n",
       "      <td>['drama', 'crime']</td>\n",
       "      <td>8.2</td>\n",
       "      <td>808582.0</td>\n",
       "    </tr>\n",
       "    <tr>\n",
       "      <th>...</th>\n",
       "      <td>...</td>\n",
       "      <td>...</td>\n",
       "      <td>...</td>\n",
       "      <td>...</td>\n",
       "      <td>...</td>\n",
       "      <td>...</td>\n",
       "      <td>...</td>\n",
       "      <td>...</td>\n",
       "      <td>...</td>\n",
       "    </tr>\n",
       "    <tr>\n",
       "      <th>85573</th>\n",
       "      <td>A??da Morales</td>\n",
       "      <td>Maritza</td>\n",
       "      <td>ACTOR</td>\n",
       "      <td>Lokillo</td>\n",
       "      <td>the movie</td>\n",
       "      <td>2021</td>\n",
       "      <td>['comedy']</td>\n",
       "      <td>3.8</td>\n",
       "      <td>68.0</td>\n",
       "    </tr>\n",
       "    <tr>\n",
       "      <th>85574</th>\n",
       "      <td>Adelaida Buscato</td>\n",
       "      <td>Mar??a Paz</td>\n",
       "      <td>ACTOR</td>\n",
       "      <td>Lokillo</td>\n",
       "      <td>the movie</td>\n",
       "      <td>2021</td>\n",
       "      <td>['comedy']</td>\n",
       "      <td>3.8</td>\n",
       "      <td>68.0</td>\n",
       "    </tr>\n",
       "    <tr>\n",
       "      <th>85575</th>\n",
       "      <td>Luz Stella Luengas</td>\n",
       "      <td>Karen Bayona</td>\n",
       "      <td>ACTOR</td>\n",
       "      <td>Lokillo</td>\n",
       "      <td>the movie</td>\n",
       "      <td>2021</td>\n",
       "      <td>['comedy']</td>\n",
       "      <td>3.8</td>\n",
       "      <td>68.0</td>\n",
       "    </tr>\n",
       "    <tr>\n",
       "      <th>85576</th>\n",
       "      <td>In??s Prieto</td>\n",
       "      <td>Fanny</td>\n",
       "      <td>ACTOR</td>\n",
       "      <td>Lokillo</td>\n",
       "      <td>the movie</td>\n",
       "      <td>2021</td>\n",
       "      <td>['comedy']</td>\n",
       "      <td>3.8</td>\n",
       "      <td>68.0</td>\n",
       "    </tr>\n",
       "    <tr>\n",
       "      <th>85578</th>\n",
       "      <td>Julian Gaviria</td>\n",
       "      <td>unknown</td>\n",
       "      <td>DIRECTOR</td>\n",
       "      <td>Lokillo</td>\n",
       "      <td>the movie</td>\n",
       "      <td>2021</td>\n",
       "      <td>['comedy']</td>\n",
       "      <td>3.8</td>\n",
       "      <td>68.0</td>\n",
       "    </tr>\n",
       "  </tbody>\n",
       "</table>\n",
       "<p>73859 rows × 9 columns</p>\n",
       "</div>"
      ],
      "text/plain": [
       "                     name                character      role        title  \\\n",
       "0          Robert De Niro            Travis Bickle     ACTOR  Taxi Driver   \n",
       "1            Jodie Foster            Iris Steensma     ACTOR  Taxi Driver   \n",
       "2           Albert Brooks                      Tom     ACTOR  Taxi Driver   \n",
       "3           Harvey Keitel  Matthew 'Sport' Higgins     ACTOR  Taxi Driver   \n",
       "4         Cybill Shepherd                    Betsy     ACTOR  Taxi Driver   \n",
       "...                   ...                      ...       ...          ...   \n",
       "85573       A??da Morales                  Maritza     ACTOR      Lokillo   \n",
       "85574    Adelaida Buscato               Mar??a Paz     ACTOR      Lokillo   \n",
       "85575  Luz Stella Luengas             Karen Bayona     ACTOR      Lokillo   \n",
       "85576        In??s Prieto                    Fanny     ACTOR      Lokillo   \n",
       "85578      Julian Gaviria                  unknown  DIRECTOR      Lokillo   \n",
       "\n",
       "            type  release year              genres  imdb score  imdb votes  \n",
       "0          MOVIE          1976  ['drama', 'crime']         8.2    808582.0  \n",
       "1          MOVIE          1976  ['drama', 'crime']         8.2    808582.0  \n",
       "2          MOVIE          1976  ['drama', 'crime']         8.2    808582.0  \n",
       "3          MOVIE          1976  ['drama', 'crime']         8.2    808582.0  \n",
       "4          MOVIE          1976  ['drama', 'crime']         8.2    808582.0  \n",
       "...          ...           ...                 ...         ...         ...  \n",
       "85573  the movie          2021          ['comedy']         3.8        68.0  \n",
       "85574  the movie          2021          ['comedy']         3.8        68.0  \n",
       "85575  the movie          2021          ['comedy']         3.8        68.0  \n",
       "85576  the movie          2021          ['comedy']         3.8        68.0  \n",
       "85578  the movie          2021          ['comedy']         3.8        68.0  \n",
       "\n",
       "[73859 rows x 9 columns]"
      ]
     },
     "execution_count": 19,
     "metadata": {},
     "output_type": "execute_result"
    }
   ],
   "source": [
    "df"
   ]
  },
  {
   "cell_type": "markdown",
   "id": "0ea2cb51",
   "metadata": {},
   "source": [
    "To filter the dataframe and only include shows released in 1999 or later, you will take two steps. First, keep only titles published in 1999 or later in our dataframe. Then, filter the table to only contain shows (movies will be removed)."
   ]
  },
  {
   "cell_type": "code",
   "execution_count": 20,
   "id": "6a704aa1",
   "metadata": {},
   "outputs": [],
   "source": [
    "# using conditional indexing modify df so it has only titles released after 1999 (with 1999 included)\n",
    "# give the slice of dataframe new name\n",
    "\n",
    "filtered_shows = df[df['release year'] >= 1999]"
   ]
  },
  {
   "cell_type": "markdown",
   "id": "6a659bf9",
   "metadata": {},
   "source": [
    "<div class=\"alert alert-danger\"; style=\"border-left: 7px solid red\">\n",
    "<b>⛔️ Reviewer's comment, v. 1</b> \n",
    "    \n",
    "Please don't create a new dataframe here. We should work with our df dataframe frome the previous cells, we should just **give the slice of dataframe new name** in the filtering"
   ]
  },
  {
   "cell_type": "markdown",
   "id": "cd7b7a10",
   "metadata": {},
   "source": [
    "<div class=\"alert alert-success\"; style=\"border-left: 7px solid green\">\n",
    "<b>✅ Reviewer's comment, v. 2</b> \n",
    "    \n",
    "And it's great again!"
   ]
  },
  {
   "cell_type": "code",
   "execution_count": 21,
   "id": "128dc6a9",
   "metadata": {
    "scrolled": true
   },
   "outputs": [],
   "source": [
    "# repeat conditional indexing so df has only shows (movies are removed as result)\n",
    "filtered_shows = filtered_shows[filtered_shows['type'] == 'show']"
   ]
  },
  {
   "cell_type": "markdown",
   "id": "9648040c",
   "metadata": {},
   "source": [
    "The scores that are to be grouped should be rounded. For instance, titles with scores like 7.8, 8.1, and 8.3 will all be placed in the same bucket with a score of 8."
   ]
  },
  {
   "cell_type": "code",
   "execution_count": 22,
   "id": "54bbd5c0",
   "metadata": {},
   "outputs": [],
   "source": [
    "# rounding column with scores\n",
    "\n",
    "filtered_shows['score_bucket'] = filtered_shows['imdb score'].round().astype(int)"
   ]
  },
  {
   "cell_type": "markdown",
   "id": "36dbd00a",
   "metadata": {},
   "source": [
    "It is now time to identify outliers based on the number of votes."
   ]
  },
  {
   "cell_type": "markdown",
   "id": "e47fd3e4",
   "metadata": {},
   "source": [
    "<div class=\"alert alert-danger\"; style=\"border-left: 7px solid red\">\n",
    "<b>⛔️ Reviewer's comment, v. 1</b> \n",
    "    \n",
    "Please count all unique values in each group instead of calculating average in the code cell below"
   ]
  },
  {
   "cell_type": "code",
   "execution_count": 23,
   "id": "b8b55e95",
   "metadata": {},
   "outputs": [],
   "source": [
    "# Use groupby() for scores and count all unique values in each group, print the result\n",
    "average_votes_per_score = filtered_shows.groupby('score_bucket').size()\n"
   ]
  },
  {
   "cell_type": "code",
   "execution_count": 24,
   "id": "4aa38036",
   "metadata": {},
   "outputs": [
    {
     "data": {
      "text/plain": [
       "score_bucket\n",
       "2       24\n",
       "3       27\n",
       "4      180\n",
       "5      592\n",
       "6     2494\n",
       "7     4687\n",
       "8     4837\n",
       "9      557\n",
       "10       8\n",
       "dtype: int64"
      ]
     },
     "execution_count": 24,
     "metadata": {},
     "output_type": "execute_result"
    }
   ],
   "source": [
    "average_votes_per_score\n"
   ]
  },
  {
   "cell_type": "markdown",
   "id": "24f8510b",
   "metadata": {},
   "source": [
    "<div class=\"alert alert-success\"; style=\"border-left: 7px solid green\">\n",
    "<b>✅ Reviewer's comment, v. 2</b> \n",
    "    \n",
    "The dataframe was filtered and grouped flawlessly"
   ]
  },
  {
   "cell_type": "markdown",
   "id": "1ba6daae",
   "metadata": {},
   "source": [
    "Based on the aggregation performed, it is evident that scores 2 (24 voted shows), 3 (27 voted shows), and 10 (only 8 voted shows) are outliers. There isn't enough data for these scores for the average number of votes to be meaningful."
   ]
  },
  {
   "cell_type": "markdown",
   "id": "bd468c46",
   "metadata": {},
   "source": [
    "To obtain the mean numbers of votes for the selected scores (we identified a range of 4-9 as acceptable), use conditional filtering and grouping."
   ]
  },
  {
   "cell_type": "code",
   "execution_count": 28,
   "id": "d1867e0e",
   "metadata": {},
   "outputs": [
    {
     "data": {
      "text/html": [
       "<div>\n",
       "<style scoped>\n",
       "    .dataframe tbody tr th:only-of-type {\n",
       "        vertical-align: middle;\n",
       "    }\n",
       "\n",
       "    .dataframe tbody tr th {\n",
       "        vertical-align: top;\n",
       "    }\n",
       "\n",
       "    .dataframe thead th {\n",
       "        text-align: right;\n",
       "    }\n",
       "</style>\n",
       "<table border=\"1\" class=\"dataframe\">\n",
       "  <thead>\n",
       "    <tr style=\"text-align: right;\">\n",
       "      <th></th>\n",
       "      <th>score_bucket</th>\n",
       "      <th>imdb votes</th>\n",
       "    </tr>\n",
       "  </thead>\n",
       "  <tbody>\n",
       "    <tr>\n",
       "      <th>0</th>\n",
       "      <td>4</td>\n",
       "      <td>5277.583333</td>\n",
       "    </tr>\n",
       "    <tr>\n",
       "      <th>1</th>\n",
       "      <td>5</td>\n",
       "      <td>3143.942568</td>\n",
       "    </tr>\n",
       "    <tr>\n",
       "      <th>2</th>\n",
       "      <td>6</td>\n",
       "      <td>3481.717322</td>\n",
       "    </tr>\n",
       "    <tr>\n",
       "      <th>3</th>\n",
       "      <td>7</td>\n",
       "      <td>8690.394069</td>\n",
       "    </tr>\n",
       "    <tr>\n",
       "      <th>4</th>\n",
       "      <td>8</td>\n",
       "      <td>30330.239818</td>\n",
       "    </tr>\n",
       "    <tr>\n",
       "      <th>5</th>\n",
       "      <td>9</td>\n",
       "      <td>126904.109515</td>\n",
       "    </tr>\n",
       "  </tbody>\n",
       "</table>\n",
       "</div>"
      ],
      "text/plain": [
       "   score_bucket     imdb votes\n",
       "0             4    5277.583333\n",
       "1             5    3143.942568\n",
       "2             6    3481.717322\n",
       "3             7    8690.394069\n",
       "4             8   30330.239818\n",
       "5             9  126904.109515"
      ]
     },
     "execution_count": 28,
     "metadata": {},
     "output_type": "execute_result"
    }
   ],
   "source": [
    "# filter dataframe using two conditions (scores to be in the range 4-9)\n",
    "filtered_shows = filtered_shows[(filtered_shows['score_bucket'] >= 4) & (filtered_shows['score_bucket'] <= 9)]\n",
    "average_votes_per_score = filtered_shows.groupby('score_bucket')['imdb votes'].mean().reset_index()\n",
    "average_votes_per_score"
   ]
  },
  {
   "cell_type": "markdown",
   "id": "7f0de52c",
   "metadata": {},
   "source": [
    "<div class=\"alert alert-danger\"; style=\"border-left: 7px solid red\">\n",
    "<b>⛔️ Reviewer's comment, v. 1</b> \n",
    "    \n",
    "Please correct the code first according to the comments above so that it is possible to correctly complete the task here. Also, at the beginning of the code cell above, you are trying to filter in a dataset that does not exist"
   ]
  },
  {
   "cell_type": "markdown",
   "id": "35f1f8af",
   "metadata": {},
   "source": [
    "<div class=\"alert alert-danger\"; style=\"border-left: 7px solid red\">\n",
    "<b>⛔️ Reviewer's comment, v. 2</b> \n",
    "    \n",
    "Please:\n",
    "    \n",
    "* don't filter the 'imdb votes' column in the code cell above;\n",
    "    \n",
    "* show the result of the grouping from the \"average_votes_per_score\" on the screen;"
   ]
  },
  {
   "cell_type": "markdown",
   "id": "14541812",
   "metadata": {},
   "source": [
    "<div class=\"alert alert-success\"; style=\"border-left: 7px solid green\">\n",
    "<b>✅ Reviewer's comment, v. 3</b> \n",
    "    \n",
    "You made the filtering very well"
   ]
  },
  {
   "cell_type": "markdown",
   "id": "145552c3",
   "metadata": {},
   "source": [
    "<div class=\"alert alert-danger\"; style=\"border-left: 7px solid red\">\n",
    "<b>⛔️ Reviewer's comment, v. 3</b> \n",
    "    \n",
    "    \n",
    "But please - `obtain the mean numbers of votes for the selected scores`. We should use \"groupby\" method here, now it is missing"
   ]
  },
  {
   "cell_type": "markdown",
   "id": "96a66d14",
   "metadata": {},
   "source": [
    "Now for the final step! Round the column with the averages, rename both columns, and print the dataframe in descending order."
   ]
  },
  {
   "cell_type": "markdown",
   "id": "192a1382",
   "metadata": {},
   "source": [
    "<div class=\"alert alert-danger\"; style=\"border-left: 7px solid red\">\n",
    "<b>⛔️ Reviewer's comment, v. 2</b> \n",
    "    \n",
    "Please note that here we should - `Round the column with the averages, rename both columns, and print the dataframe in descending order.`"
   ]
  },
  {
   "cell_type": "code",
   "execution_count": null,
   "id": "65a2a4fe",
   "metadata": {},
   "outputs": [],
   "source": [
    "average_votes_per_score"
   ]
  },
  {
   "cell_type": "markdown",
   "id": "af07386d",
   "metadata": {},
   "source": [
    "The assumption macthes the analysis: the shows with the top 3 scores have the most amounts of votes."
   ]
  },
  {
   "cell_type": "markdown",
   "id": "84e29a37",
   "metadata": {},
   "source": [
    "## Conclusion <a id='hypotheses'></a>"
   ]
  },
  {
   "cell_type": "markdown",
   "id": "984766a3",
   "metadata": {},
   "source": [
    "The research done confirms that highly-rated shows released during the \"Golden Age\" of television also have the most votes. While shows with score 4 have more votes than ones with scores 5 and 6, the top three (scores 7-9) have the largest number. The data studied represents around 94% of the original set, so we can be confident in our findings."
   ]
  }
 ],
 "metadata": {
  "ExecuteTimeLog": [
   {
    "duration": 440,
    "start_time": "2024-06-02T18:34:28.965Z"
   },
   {
    "duration": 450,
    "start_time": "2024-06-05T01:07:10.009Z"
   },
   {
    "duration": 476,
    "start_time": "2024-06-21T20:37:36.725Z"
   },
   {
    "duration": 438,
    "start_time": "2024-06-25T15:00:23.461Z"
   },
   {
    "duration": 3,
    "start_time": "2024-06-25T15:20:08.311Z"
   },
   {
    "duration": 308,
    "start_time": "2024-06-25T16:59:19.791Z"
   },
   {
    "duration": 464,
    "start_time": "2024-06-25T16:59:27.237Z"
   },
   {
    "duration": 91,
    "start_time": "2024-06-25T16:59:31.285Z"
   },
   {
    "duration": 32,
    "start_time": "2024-06-25T17:05:50.611Z"
   },
   {
    "duration": 4,
    "start_time": "2024-06-25T17:06:16.683Z"
   },
   {
    "duration": 36,
    "start_time": "2024-06-25T17:13:55.386Z"
   },
   {
    "duration": 813,
    "start_time": "2024-06-25T20:31:34.225Z"
   },
   {
    "duration": 13,
    "start_time": "2024-06-26T15:22:54.655Z"
   },
   {
    "duration": 431,
    "start_time": "2024-08-06T22:10:29.067Z"
   },
   {
    "duration": 7,
    "start_time": "2024-08-06T22:10:41.032Z"
   },
   {
    "duration": 13,
    "start_time": "2024-08-13T21:04:22.180Z"
   },
   {
    "duration": 792,
    "start_time": "2024-08-13T21:04:28.805Z"
   },
   {
    "duration": 22,
    "start_time": "2024-08-13T21:05:19.750Z"
   },
   {
    "duration": 5,
    "start_time": "2024-08-13T21:05:23.360Z"
   },
   {
    "duration": 246,
    "start_time": "2024-08-13T21:09:13.392Z"
   },
   {
    "duration": 210,
    "start_time": "2024-08-13T21:09:23.718Z"
   },
   {
    "duration": 11,
    "start_time": "2024-08-13T21:14:18.214Z"
   },
   {
    "duration": 24,
    "start_time": "2024-08-13T21:21:19.184Z"
   },
   {
    "duration": 343,
    "start_time": "2024-08-14T19:58:16.396Z"
   },
   {
    "duration": 29,
    "start_time": "2024-08-14T19:58:33.836Z"
   },
   {
    "duration": 26,
    "start_time": "2024-08-14T19:59:17.339Z"
   },
   {
    "duration": 755,
    "start_time": "2024-08-14T20:00:56.033Z"
   },
   {
    "duration": 332,
    "start_time": "2024-08-16T19:17:10.360Z"
   },
   {
    "duration": 701,
    "start_time": "2024-08-16T19:17:26.255Z"
   },
   {
    "duration": 228,
    "start_time": "2024-08-16T19:28:36.439Z"
   },
   {
    "duration": 252,
    "start_time": "2024-08-16T19:42:47.739Z"
   },
   {
    "duration": 11,
    "start_time": "2024-08-16T19:43:35.837Z"
   },
   {
    "duration": 5,
    "start_time": "2024-08-16T19:43:54.216Z"
   },
   {
    "duration": 6,
    "start_time": "2024-08-16T19:50:56.718Z"
   },
   {
    "duration": 28,
    "start_time": "2024-08-16T19:51:38.856Z"
   },
   {
    "duration": 5,
    "start_time": "2024-08-16T19:52:25.277Z"
   },
   {
    "duration": 32,
    "start_time": "2024-08-16T19:52:41.633Z"
   },
   {
    "duration": 75,
    "start_time": "2024-08-16T19:57:37.824Z"
   },
   {
    "duration": 87,
    "start_time": "2024-08-16T19:58:42.582Z"
   },
   {
    "duration": 84,
    "start_time": "2024-08-16T19:59:17.832Z"
   },
   {
    "duration": 57,
    "start_time": "2024-08-16T19:59:40.186Z"
   },
   {
    "duration": 67,
    "start_time": "2024-08-16T20:00:35.446Z"
   },
   {
    "duration": 9,
    "start_time": "2024-08-16T20:01:00.951Z"
   },
   {
    "duration": 3,
    "start_time": "2024-08-16T20:05:45.598Z"
   },
   {
    "duration": 23,
    "start_time": "2024-08-16T20:07:51.885Z"
   },
   {
    "duration": 36,
    "start_time": "2024-08-16T20:08:05.190Z"
   },
   {
    "duration": 814,
    "start_time": "2024-08-16T20:12:53.179Z"
   },
   {
    "duration": 75,
    "start_time": "2024-08-16T20:13:38.018Z"
   },
   {
    "duration": 13,
    "start_time": "2024-08-16T20:13:55.762Z"
   },
   {
    "duration": 8,
    "start_time": "2024-08-16T20:14:43.981Z"
   },
   {
    "duration": 33,
    "start_time": "2024-08-16T20:15:24.637Z"
   },
   {
    "duration": 5,
    "start_time": "2024-08-16T20:15:46.983Z"
   },
   {
    "duration": 72,
    "start_time": "2024-08-16T20:17:31.438Z"
   },
   {
    "duration": 85,
    "start_time": "2024-08-16T20:19:08.408Z"
   },
   {
    "duration": 9,
    "start_time": "2024-08-16T20:19:55.893Z"
   },
   {
    "duration": 22,
    "start_time": "2024-08-16T20:20:04.818Z"
   },
   {
    "duration": 5,
    "start_time": "2024-08-16T20:21:03.304Z"
   },
   {
    "duration": 3,
    "start_time": "2024-08-16T20:21:09.611Z"
   },
   {
    "duration": 3,
    "start_time": "2024-08-16T20:21:13.595Z"
   },
   {
    "duration": 774,
    "start_time": "2024-08-16T20:23:05.244Z"
   },
   {
    "duration": 8,
    "start_time": "2024-08-16T20:23:58.155Z"
   },
   {
    "duration": 8,
    "start_time": "2024-08-16T20:24:23.560Z"
   },
   {
    "duration": 73,
    "start_time": "2024-08-16T20:25:36.173Z"
   },
   {
    "duration": 73,
    "start_time": "2024-08-16T20:25:47.146Z"
   },
   {
    "duration": 23,
    "start_time": "2024-08-16T20:26:26.175Z"
   },
   {
    "duration": 24,
    "start_time": "2024-08-16T20:27:50.726Z"
   },
   {
    "duration": 7,
    "start_time": "2024-08-16T21:50:16.256Z"
   },
   {
    "duration": 4,
    "start_time": "2024-08-16T21:50:44.302Z"
   },
   {
    "duration": 5,
    "start_time": "2024-08-16T21:51:01.369Z"
   },
   {
    "duration": 8,
    "start_time": "2024-08-16T21:51:22.179Z"
   },
   {
    "duration": 23,
    "start_time": "2024-08-16T21:54:03.976Z"
   },
   {
    "duration": 29,
    "start_time": "2024-08-16T21:54:21.159Z"
   },
   {
    "duration": 27,
    "start_time": "2024-08-16T21:54:51.464Z"
   },
   {
    "duration": 267,
    "start_time": "2024-08-16T21:56:26.015Z"
   },
   {
    "duration": 331,
    "start_time": "2024-08-19T02:18:23.221Z"
   },
   {
    "duration": 6,
    "start_time": "2024-08-19T02:18:36.907Z"
   },
   {
    "duration": 22,
    "start_time": "2024-08-19T02:18:42.336Z"
   },
   {
    "duration": 24,
    "start_time": "2024-08-19T02:19:15.359Z"
   },
   {
    "duration": 22,
    "start_time": "2024-08-19T02:19:56.489Z"
   },
   {
    "duration": 337,
    "start_time": "2024-08-21T12:58:35.920Z"
   },
   {
    "duration": 21,
    "start_time": "2024-08-21T12:58:42.119Z"
   },
   {
    "duration": 22,
    "start_time": "2024-08-21T12:59:51.520Z"
   },
   {
    "duration": 433,
    "start_time": "2024-08-21T13:08:21.553Z"
   },
   {
    "duration": 242,
    "start_time": "2024-08-21T13:08:21.990Z"
   },
   {
    "duration": 12,
    "start_time": "2024-08-21T13:08:22.235Z"
   },
   {
    "duration": 58,
    "start_time": "2024-08-21T13:08:22.253Z"
   },
   {
    "duration": 6,
    "start_time": "2024-08-21T13:08:22.314Z"
   },
   {
    "duration": 10,
    "start_time": "2024-08-21T13:08:22.323Z"
   },
   {
    "duration": 6,
    "start_time": "2024-08-21T13:08:22.337Z"
   },
   {
    "duration": 72,
    "start_time": "2024-08-21T13:08:22.347Z"
   },
   {
    "duration": 51,
    "start_time": "2024-08-21T13:08:22.423Z"
   },
   {
    "duration": 42,
    "start_time": "2024-08-21T13:08:22.481Z"
   },
   {
    "duration": 100,
    "start_time": "2024-08-21T13:08:22.526Z"
   },
   {
    "duration": 100,
    "start_time": "2024-08-21T13:08:22.629Z"
   },
   {
    "duration": 94,
    "start_time": "2024-08-21T13:08:22.732Z"
   },
   {
    "duration": 84,
    "start_time": "2024-08-21T13:08:22.829Z"
   },
   {
    "duration": 10,
    "start_time": "2024-08-21T13:08:22.916Z"
   },
   {
    "duration": 5,
    "start_time": "2024-08-21T13:08:22.929Z"
   },
   {
    "duration": 4,
    "start_time": "2024-08-21T13:08:22.937Z"
   },
   {
    "duration": 80,
    "start_time": "2024-08-21T13:08:22.944Z"
   },
   {
    "duration": 1141,
    "start_time": "2024-08-21T13:08:23.027Z"
   },
   {
    "duration": 0,
    "start_time": "2024-08-21T13:08:24.171Z"
   },
   {
    "duration": 0,
    "start_time": "2024-08-21T13:08:24.174Z"
   },
   {
    "duration": 0,
    "start_time": "2024-08-21T13:08:24.177Z"
   },
   {
    "duration": 0,
    "start_time": "2024-08-21T13:08:24.179Z"
   },
   {
    "duration": 0,
    "start_time": "2024-08-21T13:08:24.202Z"
   },
   {
    "duration": 23,
    "start_time": "2024-08-21T13:10:15.529Z"
   },
   {
    "duration": 14,
    "start_time": "2024-08-21T13:10:51.723Z"
   },
   {
    "duration": 14,
    "start_time": "2024-08-21T13:11:54.349Z"
   },
   {
    "duration": 75,
    "start_time": "2024-08-21T13:12:24.616Z"
   },
   {
    "duration": 6,
    "start_time": "2024-08-21T13:13:11.516Z"
   },
   {
    "duration": 111,
    "start_time": "2024-08-21T13:14:42.121Z"
   },
   {
    "duration": 112,
    "start_time": "2024-08-21T13:15:26.326Z"
   },
   {
    "duration": 13,
    "start_time": "2024-08-21T13:15:56.421Z"
   },
   {
    "duration": 5,
    "start_time": "2024-08-21T13:16:31.060Z"
   },
   {
    "duration": 7,
    "start_time": "2024-08-21T13:16:33.992Z"
   },
   {
    "duration": 9,
    "start_time": "2024-08-21T13:17:46.707Z"
   },
   {
    "duration": 425,
    "start_time": "2024-08-21T13:18:06.050Z"
   },
   {
    "duration": 206,
    "start_time": "2024-08-21T13:18:06.479Z"
   },
   {
    "duration": 21,
    "start_time": "2024-08-21T13:18:06.692Z"
   },
   {
    "duration": 39,
    "start_time": "2024-08-21T13:18:06.716Z"
   },
   {
    "duration": 5,
    "start_time": "2024-08-21T13:18:06.760Z"
   },
   {
    "duration": 35,
    "start_time": "2024-08-21T13:18:06.769Z"
   },
   {
    "duration": 6,
    "start_time": "2024-08-21T13:18:06.807Z"
   },
   {
    "duration": 29,
    "start_time": "2024-08-21T13:18:06.817Z"
   },
   {
    "duration": 72,
    "start_time": "2024-08-21T13:18:06.849Z"
   },
   {
    "duration": 27,
    "start_time": "2024-08-21T13:18:06.924Z"
   },
   {
    "duration": 104,
    "start_time": "2024-08-21T13:18:06.954Z"
   },
   {
    "duration": 101,
    "start_time": "2024-08-21T13:18:07.061Z"
   },
   {
    "duration": 96,
    "start_time": "2024-08-21T13:18:07.166Z"
   },
   {
    "duration": 77,
    "start_time": "2024-08-21T13:18:07.270Z"
   },
   {
    "duration": 10,
    "start_time": "2024-08-21T13:18:07.349Z"
   },
   {
    "duration": 4,
    "start_time": "2024-08-21T13:18:07.362Z"
   },
   {
    "duration": 33,
    "start_time": "2024-08-21T13:18:07.370Z"
   },
   {
    "duration": 36,
    "start_time": "2024-08-21T13:18:07.406Z"
   },
   {
    "duration": 23,
    "start_time": "2024-08-21T13:18:07.448Z"
   },
   {
    "duration": 13,
    "start_time": "2024-08-21T13:18:07.501Z"
   },
   {
    "duration": 14,
    "start_time": "2024-08-21T13:18:07.517Z"
   },
   {
    "duration": 6,
    "start_time": "2024-08-21T13:18:07.535Z"
   },
   {
    "duration": 6,
    "start_time": "2024-08-21T13:18:07.544Z"
   },
   {
    "duration": 50,
    "start_time": "2024-08-21T13:18:07.553Z"
   },
   {
    "duration": 354,
    "start_time": "2024-08-21T13:18:07.606Z"
   },
   {
    "duration": 0,
    "start_time": "2024-08-21T13:18:07.964Z"
   },
   {
    "duration": 7,
    "start_time": "2024-08-21T13:18:14.619Z"
   },
   {
    "duration": 27,
    "start_time": "2024-08-21T13:20:10.007Z"
   },
   {
    "duration": 825,
    "start_time": "2024-08-21T13:21:19.083Z"
   },
   {
    "duration": 81,
    "start_time": "2024-08-21T13:21:44.305Z"
   },
   {
    "duration": 16,
    "start_time": "2024-08-21T13:22:05.036Z"
   },
   {
    "duration": 11,
    "start_time": "2024-08-21T13:22:52.992Z"
   },
   {
    "duration": 8,
    "start_time": "2024-08-21T13:24:22.902Z"
   },
   {
    "duration": 316,
    "start_time": "2024-08-22T17:08:45.449Z"
   },
   {
    "duration": 26,
    "start_time": "2024-08-22T17:11:18.938Z"
   },
   {
    "duration": 460,
    "start_time": "2024-08-23T21:56:09.212Z"
   },
   {
    "duration": 237,
    "start_time": "2024-08-23T21:56:09.676Z"
   },
   {
    "duration": 12,
    "start_time": "2024-08-23T21:56:09.915Z"
   },
   {
    "duration": 38,
    "start_time": "2024-08-23T21:56:09.932Z"
   },
   {
    "duration": 6,
    "start_time": "2024-08-23T21:56:09.992Z"
   },
   {
    "duration": 9,
    "start_time": "2024-08-23T21:56:10.001Z"
   },
   {
    "duration": 7,
    "start_time": "2024-08-23T21:56:10.013Z"
   },
   {
    "duration": 69,
    "start_time": "2024-08-23T21:56:10.022Z"
   },
   {
    "duration": 40,
    "start_time": "2024-08-23T21:56:10.094Z"
   },
   {
    "duration": 26,
    "start_time": "2024-08-23T21:56:10.140Z"
   },
   {
    "duration": 73,
    "start_time": "2024-08-23T21:56:10.191Z"
   },
   {
    "duration": 100,
    "start_time": "2024-08-23T21:56:10.268Z"
   },
   {
    "duration": 89,
    "start_time": "2024-08-23T21:56:10.371Z"
   },
   {
    "duration": 79,
    "start_time": "2024-08-23T21:56:10.462Z"
   },
   {
    "duration": 9,
    "start_time": "2024-08-23T21:56:10.543Z"
   },
   {
    "duration": 4,
    "start_time": "2024-08-23T21:56:10.555Z"
   },
   {
    "duration": 31,
    "start_time": "2024-08-23T21:56:10.561Z"
   },
   {
    "duration": 35,
    "start_time": "2024-08-23T21:56:10.595Z"
   },
   {
    "duration": 23,
    "start_time": "2024-08-23T21:56:10.633Z"
   },
   {
    "duration": 14,
    "start_time": "2024-08-23T21:56:10.690Z"
   },
   {
    "duration": 14,
    "start_time": "2024-08-23T21:56:10.707Z"
   },
   {
    "duration": 7,
    "start_time": "2024-08-23T21:56:10.724Z"
   },
   {
    "duration": 9,
    "start_time": "2024-08-23T21:56:10.735Z"
   },
   {
    "duration": 48,
    "start_time": "2024-08-23T21:56:10.748Z"
   },
   {
    "duration": 16,
    "start_time": "2024-08-23T21:56:10.799Z"
   },
   {
    "duration": 360,
    "start_time": "2024-08-23T21:56:10.817Z"
   },
   {
    "duration": 13,
    "start_time": "2024-08-23T22:18:39.478Z"
   },
   {
    "duration": 430,
    "start_time": "2024-08-23T22:18:51.062Z"
   },
   {
    "duration": 203,
    "start_time": "2024-08-23T22:18:51.495Z"
   },
   {
    "duration": 13,
    "start_time": "2024-08-23T22:18:51.701Z"
   },
   {
    "duration": 40,
    "start_time": "2024-08-23T22:18:51.720Z"
   },
   {
    "duration": 32,
    "start_time": "2024-08-23T22:18:51.763Z"
   },
   {
    "duration": 12,
    "start_time": "2024-08-23T22:18:51.798Z"
   },
   {
    "duration": 6,
    "start_time": "2024-08-23T22:18:51.812Z"
   },
   {
    "duration": 28,
    "start_time": "2024-08-23T22:18:51.821Z"
   },
   {
    "duration": 41,
    "start_time": "2024-08-23T22:18:51.891Z"
   },
   {
    "duration": 27,
    "start_time": "2024-08-23T22:18:51.939Z"
   },
   {
    "duration": 72,
    "start_time": "2024-08-23T22:18:51.991Z"
   },
   {
    "duration": 98,
    "start_time": "2024-08-23T22:18:52.066Z"
   },
   {
    "duration": 94,
    "start_time": "2024-08-23T22:18:52.166Z"
   },
   {
    "duration": 80,
    "start_time": "2024-08-23T22:18:52.262Z"
   },
   {
    "duration": 10,
    "start_time": "2024-08-23T22:18:52.345Z"
   },
   {
    "duration": 4,
    "start_time": "2024-08-23T22:18:52.358Z"
   },
   {
    "duration": 5,
    "start_time": "2024-08-23T22:18:52.389Z"
   },
   {
    "duration": 34,
    "start_time": "2024-08-23T22:18:52.397Z"
   },
   {
    "duration": 26,
    "start_time": "2024-08-23T22:18:52.433Z"
   },
   {
    "duration": 18,
    "start_time": "2024-08-23T22:18:52.493Z"
   },
   {
    "duration": 14,
    "start_time": "2024-08-23T22:18:52.515Z"
   },
   {
    "duration": 7,
    "start_time": "2024-08-23T22:18:52.533Z"
   },
   {
    "duration": 6,
    "start_time": "2024-08-23T22:18:52.543Z"
   },
   {
    "duration": 45,
    "start_time": "2024-08-23T22:18:52.552Z"
   },
   {
    "duration": 13,
    "start_time": "2024-08-23T22:18:52.601Z"
   },
   {
    "duration": 399,
    "start_time": "2024-08-23T22:18:52.617Z"
   },
   {
    "duration": 7,
    "start_time": "2024-08-23T22:20:31.063Z"
   },
   {
    "duration": 11,
    "start_time": "2024-08-23T22:22:48.699Z"
   },
   {
    "duration": 656,
    "start_time": "2024-08-23T22:22:53.328Z"
   },
   {
    "duration": 475,
    "start_time": "2024-08-23T22:23:04.597Z"
   },
   {
    "duration": 202,
    "start_time": "2024-08-23T22:23:05.076Z"
   },
   {
    "duration": 18,
    "start_time": "2024-08-23T22:23:05.281Z"
   },
   {
    "duration": 37,
    "start_time": "2024-08-23T22:23:05.303Z"
   },
   {
    "duration": 6,
    "start_time": "2024-08-23T22:23:05.343Z"
   },
   {
    "duration": 43,
    "start_time": "2024-08-23T22:23:05.352Z"
   },
   {
    "duration": 6,
    "start_time": "2024-08-23T22:23:05.399Z"
   },
   {
    "duration": 30,
    "start_time": "2024-08-23T22:23:05.410Z"
   },
   {
    "duration": 76,
    "start_time": "2024-08-23T22:23:05.444Z"
   },
   {
    "duration": 26,
    "start_time": "2024-08-23T22:23:05.527Z"
   },
   {
    "duration": 97,
    "start_time": "2024-08-23T22:23:05.557Z"
   },
   {
    "duration": 102,
    "start_time": "2024-08-23T22:23:05.657Z"
   },
   {
    "duration": 91,
    "start_time": "2024-08-23T22:23:05.762Z"
   },
   {
    "duration": 81,
    "start_time": "2024-08-23T22:23:05.856Z"
   },
   {
    "duration": 9,
    "start_time": "2024-08-23T22:23:05.940Z"
   },
   {
    "duration": 5,
    "start_time": "2024-08-23T22:23:05.952Z"
   },
   {
    "duration": 31,
    "start_time": "2024-08-23T22:23:05.961Z"
   },
   {
    "duration": 34,
    "start_time": "2024-08-23T22:23:05.996Z"
   },
   {
    "duration": 23,
    "start_time": "2024-08-23T22:23:06.033Z"
   },
   {
    "duration": 11,
    "start_time": "2024-08-23T22:23:06.089Z"
   },
   {
    "duration": 14,
    "start_time": "2024-08-23T22:23:06.103Z"
   },
   {
    "duration": 6,
    "start_time": "2024-08-23T22:23:06.120Z"
   },
   {
    "duration": 7,
    "start_time": "2024-08-23T22:23:06.129Z"
   },
   {
    "duration": 52,
    "start_time": "2024-08-23T22:23:06.139Z"
   },
   {
    "duration": 12,
    "start_time": "2024-08-23T22:23:06.194Z"
   },
   {
    "duration": 964,
    "start_time": "2024-08-23T22:23:06.209Z"
   },
   {
    "duration": 0,
    "start_time": "2024-08-23T22:23:07.176Z"
   },
   {
    "duration": 77,
    "start_time": "2024-08-23T22:27:33.516Z"
   },
   {
    "duration": 309,
    "start_time": "2024-08-24T04:58:20.280Z"
   },
   {
    "duration": 449,
    "start_time": "2024-08-24T04:58:40.747Z"
   },
   {
    "duration": 230,
    "start_time": "2024-08-24T04:58:41.200Z"
   },
   {
    "duration": 12,
    "start_time": "2024-08-24T04:58:41.434Z"
   },
   {
    "duration": 39,
    "start_time": "2024-08-24T04:58:41.450Z"
   },
   {
    "duration": 34,
    "start_time": "2024-08-24T04:58:41.492Z"
   },
   {
    "duration": 10,
    "start_time": "2024-08-24T04:58:41.529Z"
   },
   {
    "duration": 6,
    "start_time": "2024-08-24T04:58:41.542Z"
   },
   {
    "duration": 28,
    "start_time": "2024-08-24T04:58:41.552Z"
   },
   {
    "duration": 79,
    "start_time": "2024-08-24T04:58:41.583Z"
   },
   {
    "duration": 27,
    "start_time": "2024-08-24T04:58:41.667Z"
   },
   {
    "duration": 92,
    "start_time": "2024-08-24T04:58:41.697Z"
   },
   {
    "duration": 106,
    "start_time": "2024-08-24T04:58:41.792Z"
   },
   {
    "duration": 86,
    "start_time": "2024-08-24T04:58:41.902Z"
   },
   {
    "duration": 81,
    "start_time": "2024-08-24T04:58:41.991Z"
   },
   {
    "duration": 10,
    "start_time": "2024-08-24T04:58:42.075Z"
   },
   {
    "duration": 4,
    "start_time": "2024-08-24T04:58:42.088Z"
   },
   {
    "duration": 4,
    "start_time": "2024-08-24T04:58:42.125Z"
   },
   {
    "duration": 34,
    "start_time": "2024-08-24T04:58:42.132Z"
   },
   {
    "duration": 25,
    "start_time": "2024-08-24T04:58:42.169Z"
   },
   {
    "duration": 14,
    "start_time": "2024-08-24T04:58:42.225Z"
   },
   {
    "duration": 22,
    "start_time": "2024-08-24T04:58:42.241Z"
   },
   {
    "duration": 6,
    "start_time": "2024-08-24T04:58:42.266Z"
   },
   {
    "duration": 6,
    "start_time": "2024-08-24T04:58:42.275Z"
   },
   {
    "duration": 8,
    "start_time": "2024-08-24T04:58:42.327Z"
   },
   {
    "duration": 12,
    "start_time": "2024-08-24T04:58:42.338Z"
   },
   {
    "duration": 987,
    "start_time": "2024-08-24T04:58:42.353Z"
   },
   {
    "duration": 0,
    "start_time": "2024-08-24T04:58:43.343Z"
   },
   {
    "duration": 308,
    "start_time": "2024-08-24T17:09:19.013Z"
   },
   {
    "duration": 20,
    "start_time": "2024-08-24T17:10:15.552Z"
   },
   {
    "duration": 478,
    "start_time": "2024-08-24T17:10:30.915Z"
   },
   {
    "duration": 231,
    "start_time": "2024-08-24T17:10:31.396Z"
   },
   {
    "duration": 11,
    "start_time": "2024-08-24T17:10:31.630Z"
   },
   {
    "duration": 38,
    "start_time": "2024-08-24T17:10:31.645Z"
   },
   {
    "duration": 6,
    "start_time": "2024-08-24T17:10:31.686Z"
   },
   {
    "duration": 42,
    "start_time": "2024-08-24T17:10:31.696Z"
   },
   {
    "duration": 6,
    "start_time": "2024-08-24T17:10:31.741Z"
   },
   {
    "duration": 32,
    "start_time": "2024-08-24T17:10:31.754Z"
   },
   {
    "duration": 73,
    "start_time": "2024-08-24T17:10:31.789Z"
   },
   {
    "duration": 26,
    "start_time": "2024-08-24T17:10:31.867Z"
   },
   {
    "duration": 92,
    "start_time": "2024-08-24T17:10:31.896Z"
   },
   {
    "duration": 116,
    "start_time": "2024-08-24T17:10:31.991Z"
   },
   {
    "duration": 93,
    "start_time": "2024-08-24T17:10:32.111Z"
   },
   {
    "duration": 78,
    "start_time": "2024-08-24T17:10:32.206Z"
   },
   {
    "duration": 9,
    "start_time": "2024-08-24T17:10:32.288Z"
   },
   {
    "duration": 31,
    "start_time": "2024-08-24T17:10:32.300Z"
   },
   {
    "duration": 4,
    "start_time": "2024-08-24T17:10:32.335Z"
   },
   {
    "duration": 35,
    "start_time": "2024-08-24T17:10:32.344Z"
   },
   {
    "duration": 54,
    "start_time": "2024-08-24T17:10:32.382Z"
   },
   {
    "duration": 16,
    "start_time": "2024-08-24T17:10:32.441Z"
   },
   {
    "duration": 17,
    "start_time": "2024-08-24T17:10:32.460Z"
   },
   {
    "duration": 7,
    "start_time": "2024-08-24T17:10:32.481Z"
   },
   {
    "duration": 42,
    "start_time": "2024-08-24T17:10:32.492Z"
   },
   {
    "duration": 9,
    "start_time": "2024-08-24T17:10:32.537Z"
   },
   {
    "duration": 14,
    "start_time": "2024-08-24T17:10:32.549Z"
   },
   {
    "duration": 1205,
    "start_time": "2024-08-24T17:10:32.566Z"
   },
   {
    "duration": 0,
    "start_time": "2024-08-24T17:10:33.774Z"
   },
   {
    "duration": 92,
    "start_time": "2024-08-24T17:11:24.748Z"
   },
   {
    "duration": 79,
    "start_time": "2024-08-24T17:15:42.607Z"
   },
   {
    "duration": 74,
    "start_time": "2024-08-24T17:15:49.793Z"
   },
   {
    "duration": 461,
    "start_time": "2024-08-24T17:16:02.745Z"
   },
   {
    "duration": 206,
    "start_time": "2024-08-24T17:16:03.209Z"
   },
   {
    "duration": 16,
    "start_time": "2024-08-24T17:16:03.417Z"
   },
   {
    "duration": 36,
    "start_time": "2024-08-24T17:16:03.438Z"
   },
   {
    "duration": 6,
    "start_time": "2024-08-24T17:16:03.477Z"
   },
   {
    "duration": 44,
    "start_time": "2024-08-24T17:16:03.486Z"
   },
   {
    "duration": 5,
    "start_time": "2024-08-24T17:16:03.534Z"
   },
   {
    "duration": 27,
    "start_time": "2024-08-24T17:16:03.543Z"
   },
   {
    "duration": 71,
    "start_time": "2024-08-24T17:16:03.573Z"
   },
   {
    "duration": 27,
    "start_time": "2024-08-24T17:16:03.650Z"
   },
   {
    "duration": 91,
    "start_time": "2024-08-24T17:16:03.682Z"
   },
   {
    "duration": 96,
    "start_time": "2024-08-24T17:16:03.776Z"
   },
   {
    "duration": 90,
    "start_time": "2024-08-24T17:16:03.875Z"
   },
   {
    "duration": 74,
    "start_time": "2024-08-24T17:16:03.967Z"
   },
   {
    "duration": 20,
    "start_time": "2024-08-24T17:16:04.044Z"
   },
   {
    "duration": 4,
    "start_time": "2024-08-24T17:16:04.068Z"
   },
   {
    "duration": 4,
    "start_time": "2024-08-24T17:16:04.075Z"
   },
   {
    "duration": 62,
    "start_time": "2024-08-24T17:16:04.082Z"
   },
   {
    "duration": 24,
    "start_time": "2024-08-24T17:16:04.147Z"
   },
   {
    "duration": 12,
    "start_time": "2024-08-24T17:16:04.174Z"
   },
   {
    "duration": 46,
    "start_time": "2024-08-24T17:16:04.188Z"
   },
   {
    "duration": 6,
    "start_time": "2024-08-24T17:16:04.237Z"
   },
   {
    "duration": 6,
    "start_time": "2024-08-24T17:16:04.246Z"
   },
   {
    "duration": 8,
    "start_time": "2024-08-24T17:16:04.255Z"
   },
   {
    "duration": 1174,
    "start_time": "2024-08-24T17:16:04.267Z"
   },
   {
    "duration": 0,
    "start_time": "2024-08-24T17:16:05.444Z"
   },
   {
    "duration": 0,
    "start_time": "2024-08-24T17:16:05.446Z"
   },
   {
    "duration": 6,
    "start_time": "2024-08-24T17:19:50.841Z"
   },
   {
    "duration": 77,
    "start_time": "2024-08-24T17:20:24.972Z"
   },
   {
    "duration": 76,
    "start_time": "2024-08-24T17:22:24.727Z"
   },
   {
    "duration": 309,
    "start_time": "2024-10-07T17:17:19.148Z"
   },
   {
    "duration": 151,
    "start_time": "2024-10-07T17:17:19.459Z"
   },
   {
    "duration": 7,
    "start_time": "2024-10-07T17:17:19.612Z"
   },
   {
    "duration": 22,
    "start_time": "2024-10-07T17:17:19.622Z"
   },
   {
    "duration": 3,
    "start_time": "2024-10-07T17:17:19.646Z"
   },
   {
    "duration": 5,
    "start_time": "2024-10-07T17:17:19.651Z"
   },
   {
    "duration": 3,
    "start_time": "2024-10-07T17:17:19.658Z"
   },
   {
    "duration": 50,
    "start_time": "2024-10-07T17:17:19.663Z"
   },
   {
    "duration": 27,
    "start_time": "2024-10-07T17:17:19.716Z"
   },
   {
    "duration": 21,
    "start_time": "2024-10-07T17:17:19.746Z"
   },
   {
    "duration": 66,
    "start_time": "2024-10-07T17:17:19.769Z"
   },
   {
    "duration": 46,
    "start_time": "2024-10-07T17:17:19.837Z"
   },
   {
    "duration": 54,
    "start_time": "2024-10-07T17:17:19.885Z"
   },
   {
    "duration": 37,
    "start_time": "2024-10-07T17:17:19.941Z"
   },
   {
    "duration": 6,
    "start_time": "2024-10-07T17:17:19.979Z"
   },
   {
    "duration": 22,
    "start_time": "2024-10-07T17:17:19.987Z"
   },
   {
    "duration": 3,
    "start_time": "2024-10-07T17:17:20.011Z"
   },
   {
    "duration": 22,
    "start_time": "2024-10-07T17:17:20.017Z"
   },
   {
    "duration": 15,
    "start_time": "2024-10-07T17:17:20.041Z"
   },
   {
    "duration": 7,
    "start_time": "2024-10-07T17:17:20.058Z"
   },
   {
    "duration": 9,
    "start_time": "2024-10-07T17:17:20.067Z"
   },
   {
    "duration": 4,
    "start_time": "2024-10-07T17:17:20.108Z"
   },
   {
    "duration": 4,
    "start_time": "2024-10-07T17:17:20.114Z"
   },
   {
    "duration": 4,
    "start_time": "2024-10-07T17:17:20.119Z"
   },
   {
    "duration": 578,
    "start_time": "2024-10-07T17:17:20.125Z"
   },
   {
    "duration": 0,
    "start_time": "2024-10-07T17:17:20.709Z"
   },
   {
    "duration": 0,
    "start_time": "2024-10-07T17:17:20.711Z"
   },
   {
    "duration": 0,
    "start_time": "2024-10-07T17:17:20.712Z"
   },
   {
    "duration": 312,
    "start_time": "2024-10-07T17:17:54.443Z"
   },
   {
    "duration": 124,
    "start_time": "2024-10-07T17:17:54.757Z"
   },
   {
    "duration": 8,
    "start_time": "2024-10-07T17:17:54.883Z"
   },
   {
    "duration": 41,
    "start_time": "2024-10-07T17:17:54.893Z"
   },
   {
    "duration": 5,
    "start_time": "2024-10-07T17:17:54.937Z"
   },
   {
    "duration": 7,
    "start_time": "2024-10-07T17:17:54.944Z"
   },
   {
    "duration": 4,
    "start_time": "2024-10-07T17:17:54.953Z"
   },
   {
    "duration": 21,
    "start_time": "2024-10-07T17:17:54.959Z"
   },
   {
    "duration": 51,
    "start_time": "2024-10-07T17:17:54.982Z"
   },
   {
    "duration": 17,
    "start_time": "2024-10-07T17:17:55.035Z"
   },
   {
    "duration": 57,
    "start_time": "2024-10-07T17:17:55.054Z"
   },
   {
    "duration": 46,
    "start_time": "2024-10-07T17:17:55.113Z"
   },
   {
    "duration": 58,
    "start_time": "2024-10-07T17:17:55.160Z"
   },
   {
    "duration": 36,
    "start_time": "2024-10-07T17:17:55.222Z"
   },
   {
    "duration": 5,
    "start_time": "2024-10-07T17:17:55.260Z"
   },
   {
    "duration": 3,
    "start_time": "2024-10-07T17:17:55.266Z"
   },
   {
    "duration": 3,
    "start_time": "2024-10-07T17:17:55.271Z"
   },
   {
    "duration": 45,
    "start_time": "2024-10-07T17:17:55.276Z"
   },
   {
    "duration": 13,
    "start_time": "2024-10-07T17:17:55.323Z"
   },
   {
    "duration": 7,
    "start_time": "2024-10-07T17:17:55.338Z"
   },
   {
    "duration": 8,
    "start_time": "2024-10-07T17:17:55.347Z"
   },
   {
    "duration": 4,
    "start_time": "2024-10-07T17:17:55.356Z"
   },
   {
    "duration": 4,
    "start_time": "2024-10-07T17:17:55.362Z"
   },
   {
    "duration": 42,
    "start_time": "2024-10-07T17:17:55.367Z"
   },
   {
    "duration": 571,
    "start_time": "2024-10-07T17:17:55.411Z"
   },
   {
    "duration": 0,
    "start_time": "2024-10-07T17:17:55.985Z"
   },
   {
    "duration": 0,
    "start_time": "2024-10-07T17:17:55.986Z"
   },
   {
    "duration": 0,
    "start_time": "2024-10-07T17:17:55.987Z"
   },
   {
    "duration": 321,
    "start_time": "2024-10-07T17:18:22.914Z"
   },
   {
    "duration": 121,
    "start_time": "2024-10-07T17:18:23.237Z"
   },
   {
    "duration": 9,
    "start_time": "2024-10-07T17:18:23.359Z"
   },
   {
    "duration": 36,
    "start_time": "2024-10-07T17:18:23.373Z"
   },
   {
    "duration": 4,
    "start_time": "2024-10-07T17:18:23.411Z"
   },
   {
    "duration": 5,
    "start_time": "2024-10-07T17:18:23.417Z"
   },
   {
    "duration": 4,
    "start_time": "2024-10-07T17:18:23.424Z"
   },
   {
    "duration": 18,
    "start_time": "2024-10-07T17:18:23.430Z"
   },
   {
    "duration": 25,
    "start_time": "2024-10-07T17:18:23.450Z"
   },
   {
    "duration": 17,
    "start_time": "2024-10-07T17:18:23.509Z"
   },
   {
    "duration": 40,
    "start_time": "2024-10-07T17:18:23.528Z"
   },
   {
    "duration": 65,
    "start_time": "2024-10-07T17:18:23.570Z"
   },
   {
    "duration": 41,
    "start_time": "2024-10-07T17:18:23.637Z"
   },
   {
    "duration": 47,
    "start_time": "2024-10-07T17:18:23.680Z"
   },
   {
    "duration": 5,
    "start_time": "2024-10-07T17:18:23.729Z"
   },
   {
    "duration": 2,
    "start_time": "2024-10-07T17:18:23.736Z"
   },
   {
    "duration": 3,
    "start_time": "2024-10-07T17:18:23.740Z"
   },
   {
    "duration": 21,
    "start_time": "2024-10-07T17:18:23.745Z"
   },
   {
    "duration": 42,
    "start_time": "2024-10-07T17:18:23.767Z"
   },
   {
    "duration": 7,
    "start_time": "2024-10-07T17:18:23.810Z"
   },
   {
    "duration": 8,
    "start_time": "2024-10-07T17:18:23.819Z"
   },
   {
    "duration": 3,
    "start_time": "2024-10-07T17:18:23.829Z"
   },
   {
    "duration": 3,
    "start_time": "2024-10-07T17:18:23.834Z"
   },
   {
    "duration": 4,
    "start_time": "2024-10-07T17:18:23.839Z"
   },
   {
    "duration": 582,
    "start_time": "2024-10-07T17:18:23.844Z"
   },
   {
    "duration": 0,
    "start_time": "2024-10-07T17:18:24.428Z"
   },
   {
    "duration": 0,
    "start_time": "2024-10-07T17:18:24.430Z"
   },
   {
    "duration": 0,
    "start_time": "2024-10-07T17:18:24.431Z"
   },
   {
    "duration": 293,
    "start_time": "2024-10-07T17:18:51.704Z"
   },
   {
    "duration": 121,
    "start_time": "2024-10-07T17:18:51.999Z"
   },
   {
    "duration": 8,
    "start_time": "2024-10-07T17:18:52.122Z"
   },
   {
    "duration": 23,
    "start_time": "2024-10-07T17:18:52.132Z"
   },
   {
    "duration": 4,
    "start_time": "2024-10-07T17:18:52.156Z"
   },
   {
    "duration": 7,
    "start_time": "2024-10-07T17:18:52.162Z"
   },
   {
    "duration": 4,
    "start_time": "2024-10-07T17:18:52.170Z"
   },
   {
    "duration": 53,
    "start_time": "2024-10-07T17:18:52.175Z"
   },
   {
    "duration": 29,
    "start_time": "2024-10-07T17:18:52.230Z"
   },
   {
    "duration": 18,
    "start_time": "2024-10-07T17:18:52.263Z"
   },
   {
    "duration": 63,
    "start_time": "2024-10-07T17:18:52.283Z"
   },
   {
    "duration": 46,
    "start_time": "2024-10-07T17:18:52.347Z"
   },
   {
    "duration": 41,
    "start_time": "2024-10-07T17:18:52.408Z"
   },
   {
    "duration": 36,
    "start_time": "2024-10-07T17:18:52.451Z"
   },
   {
    "duration": 5,
    "start_time": "2024-10-07T17:18:52.489Z"
   },
   {
    "duration": 3,
    "start_time": "2024-10-07T17:18:52.509Z"
   },
   {
    "duration": 3,
    "start_time": "2024-10-07T17:18:52.515Z"
   },
   {
    "duration": 20,
    "start_time": "2024-10-07T17:18:52.519Z"
   },
   {
    "duration": 13,
    "start_time": "2024-10-07T17:18:52.540Z"
   },
   {
    "duration": 7,
    "start_time": "2024-10-07T17:18:52.555Z"
   },
   {
    "duration": 8,
    "start_time": "2024-10-07T17:18:52.564Z"
   },
   {
    "duration": 35,
    "start_time": "2024-10-07T17:18:52.574Z"
   },
   {
    "duration": 3,
    "start_time": "2024-10-07T17:18:52.611Z"
   },
   {
    "duration": 5,
    "start_time": "2024-10-07T17:18:52.616Z"
   },
   {
    "duration": 296,
    "start_time": "2024-10-07T17:18:52.622Z"
   },
   {
    "duration": 0,
    "start_time": "2024-10-07T17:18:52.920Z"
   },
   {
    "duration": 0,
    "start_time": "2024-10-07T17:18:52.921Z"
   },
   {
    "duration": 0,
    "start_time": "2024-10-07T17:18:52.922Z"
   },
   {
    "duration": 274,
    "start_time": "2024-10-07T17:19:42.296Z"
   },
   {
    "duration": 118,
    "start_time": "2024-10-07T17:19:42.571Z"
   },
   {
    "duration": 8,
    "start_time": "2024-10-07T17:19:42.691Z"
   },
   {
    "duration": 26,
    "start_time": "2024-10-07T17:19:42.700Z"
   },
   {
    "duration": 3,
    "start_time": "2024-10-07T17:19:42.730Z"
   },
   {
    "duration": 5,
    "start_time": "2024-10-07T17:19:42.735Z"
   },
   {
    "duration": 4,
    "start_time": "2024-10-07T17:19:42.742Z"
   },
   {
    "duration": 18,
    "start_time": "2024-10-07T17:19:42.747Z"
   },
   {
    "duration": 55,
    "start_time": "2024-10-07T17:19:42.767Z"
   },
   {
    "duration": 17,
    "start_time": "2024-10-07T17:19:42.823Z"
   },
   {
    "duration": 41,
    "start_time": "2024-10-07T17:19:42.842Z"
   },
   {
    "duration": 62,
    "start_time": "2024-10-07T17:19:42.885Z"
   },
   {
    "duration": 43,
    "start_time": "2024-10-07T17:19:42.949Z"
   },
   {
    "duration": 39,
    "start_time": "2024-10-07T17:19:43.010Z"
   },
   {
    "duration": 6,
    "start_time": "2024-10-07T17:19:43.051Z"
   },
   {
    "duration": 3,
    "start_time": "2024-10-07T17:19:43.058Z"
   },
   {
    "duration": 3,
    "start_time": "2024-10-07T17:19:43.063Z"
   },
   {
    "duration": 47,
    "start_time": "2024-10-07T17:19:43.068Z"
   },
   {
    "duration": 12,
    "start_time": "2024-10-07T17:19:43.117Z"
   },
   {
    "duration": 8,
    "start_time": "2024-10-07T17:19:43.131Z"
   },
   {
    "duration": 8,
    "start_time": "2024-10-07T17:19:43.140Z"
   },
   {
    "duration": 4,
    "start_time": "2024-10-07T17:19:43.149Z"
   },
   {
    "duration": 3,
    "start_time": "2024-10-07T17:19:43.155Z"
   },
   {
    "duration": 4,
    "start_time": "2024-10-07T17:19:43.160Z"
   },
   {
    "duration": 8,
    "start_time": "2024-10-07T17:19:43.165Z"
   },
   {
    "duration": 4,
    "start_time": "2024-10-07T17:19:43.209Z"
   },
   {
    "duration": 556,
    "start_time": "2024-10-07T17:19:43.215Z"
   },
   {
    "duration": 0,
    "start_time": "2024-10-07T17:19:43.773Z"
   },
   {
    "duration": 11,
    "start_time": "2024-10-07T17:23:08.337Z"
   }
  ],
  "kernelspec": {
   "display_name": "Python 3 (ipykernel)",
   "language": "python",
   "name": "python3"
  },
  "language_info": {
   "codemirror_mode": {
    "name": "ipython",
    "version": 3
   },
   "file_extension": ".py",
   "mimetype": "text/x-python",
   "name": "python",
   "nbconvert_exporter": "python",
   "pygments_lexer": "ipython3",
   "version": "3.9.19"
  },
  "toc": {
   "base_numbering": 1,
   "nav_menu": {},
   "number_sections": true,
   "sideBar": true,
   "skip_h1_title": true,
   "title_cell": "Table of Contents",
   "title_sidebar": "Contents",
   "toc_cell": false,
   "toc_position": {},
   "toc_section_display": true,
   "toc_window_display": false
  }
 },
 "nbformat": 4,
 "nbformat_minor": 5
}
